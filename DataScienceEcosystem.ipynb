{
  "nbformat": 4,
  "nbformat_minor": 0,
  "metadata": {
    "colab": {
      "provenance": [],
      "authorship_tag": "ABX9TyP9H0UR0Aa/aOLDhF1M5N+V",
      "include_colab_link": true
    },
    "kernelspec": {
      "name": "python3",
      "display_name": "Python 3"
    },
    "language_info": {
      "name": "python"
    }
  },
  "cells": [
    {
      "cell_type": "markdown",
      "metadata": {
        "id": "view-in-github",
        "colab_type": "text"
      },
      "source": [
        "<a href=\"https://colab.research.google.com/github/xiiiq/nuevorepo/blob/main/DataScienceEcosystem.ipynb\" target=\"_parent\"><img src=\"https://colab.research.google.com/assets/colab-badge.svg\" alt=\"Open In Colab\"/></a>"
      ]
    },
    {
      "cell_type": "markdown",
      "source": [
        "## Data Science Tools and Ecosystem\n"
      ],
      "metadata": {
        "id": "Cu9qv-1zWTFN"
      }
    },
    {
      "cell_type": "markdown",
      "source": [
        "In this notebook, Data Science Tools and Ecosystem are summarized."
      ],
      "metadata": {
        "id": "XdCKevGvWzr_"
      }
    },
    {
      "cell_type": "markdown",
      "source": [
        "Some of the popular languages that Data Scientists use are:\n",
        "\n",
        "1.   Python\n",
        "2.   R\n",
        "3.   SCALA\n",
        "4.   SQL\n",
        "5.   JAVA\n",
        "6.   Julia\n",
        "7.   C++"
      ],
      "metadata": {
        "id": "4RF4P_uTXFsZ"
      }
    },
    {
      "cell_type": "markdown",
      "source": [
        "Some of the commonly used libraries used by Data Scientists include:\n",
        "\n",
        "\n",
        "\n",
        "1.   NumPy\n",
        "2.   Pandas\n",
        "3.   SciPy\n",
        "4.   Matplotlib\n",
        "\n",
        "\n"
      ],
      "metadata": {
        "id": "A7GvnSiDXjn7"
      }
    },
    {
      "cell_type": "markdown",
      "source": [
        "| Data Science Tools |\n",
        "| ------------------ |\n",
        "| Jupyter Notebook   |\n",
        "| RStudio            |\n",
        "| VS Code + Extensions |"
      ],
      "metadata": {
        "id": "yXr9kjodZH37"
      }
    },
    {
      "cell_type": "markdown",
      "source": [
        "### Below are a few examples of evaluating arithmetic expressions in Python"
      ],
      "metadata": {
        "id": "RKXG7Q64Zn5F"
      }
    },
    {
      "cell_type": "code",
      "source": [
        "# This a simple arithmetic expression to mutiply then add integers\n",
        "(3*4)+5"
      ],
      "metadata": {
        "colab": {
          "base_uri": "https://localhost:8080/"
        },
        "id": "NeCck6tMZ53O",
        "outputId": "8028fa4b-6c17-4f34-ac7b-b47e52484df3"
      },
      "execution_count": 1,
      "outputs": [
        {
          "output_type": "execute_result",
          "data": {
            "text/plain": [
              "17"
            ]
          },
          "metadata": {},
          "execution_count": 1
        }
      ]
    },
    {
      "cell_type": "code",
      "source": [
        "# This will convert 200 minutes to hours by diving by 60\n",
        "200/60"
      ],
      "metadata": {
        "colab": {
          "base_uri": "https://localhost:8080/"
        },
        "id": "x8yfayPDaMd1",
        "outputId": "583b6a93-aa94-4662-f7e7-c88359837c92"
      },
      "execution_count": 2,
      "outputs": [
        {
          "output_type": "execute_result",
          "data": {
            "text/plain": [
              "3.3333333333333335"
            ]
          },
          "metadata": {},
          "execution_count": 2
        }
      ]
    },
    {
      "cell_type": "code",
      "source": [
        "# If we want only hours we can use \"//\" operator to get integers\n",
        "200//60"
      ],
      "metadata": {
        "colab": {
          "base_uri": "https://localhost:8080/"
        },
        "id": "Qv1L48-3aW3l",
        "outputId": "f21e9619-2876-49c9-9504-3c56dfc0b2b4"
      },
      "execution_count": 4,
      "outputs": [
        {
          "output_type": "execute_result",
          "data": {
            "text/plain": [
              "3"
            ]
          },
          "metadata": {},
          "execution_count": 4
        }
      ]
    },
    {
      "cell_type": "markdown",
      "source": [
        "**Objectives:**\n",
        "\n",
        "\n",
        "\n",
        "*   List popular languages for Data Science\n",
        "*   List popular libraries used by Data Scientists\n",
        "-   Evaluating arithmetic expressions in Python\n"
      ],
      "metadata": {
        "id": "j1CQYwpsa0TC"
      }
    },
    {
      "cell_type": "markdown",
      "source": [
        "## Author:\n",
        "Antonio Martínez Vicente"
      ],
      "metadata": {
        "id": "YYixTDHubm9V"
      }
    }
  ]
}